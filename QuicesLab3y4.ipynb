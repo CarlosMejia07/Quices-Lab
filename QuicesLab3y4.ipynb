{
  "cells": [
    {
      "cell_type": "markdown",
      "metadata": {
        "id": "view-in-github",
        "colab_type": "text"
      },
      "source": [
        "<a href=\"https://colab.research.google.com/github/CarlosMejia07/Quices-Lab/blob/main/QuicesLab3y4.ipynb\" target=\"_parent\"><img src=\"https://colab.research.google.com/assets/colab-badge.svg\" alt=\"Open In Colab\"/></a>"
      ]
    },
    {
      "cell_type": "markdown",
      "source": [
        "# Nueva sección"
      ],
      "metadata": {
        "id": "1Sy-hDQ7mvYE"
      }
    },
    {
      "cell_type": "markdown",
      "source": [
        "Lab 3.1 Manually use a predictive model"
      ],
      "metadata": {
        "id": "UjCwvjE5nS4c"
      }
    },
    {
      "cell_type": "code",
      "source": [
        "import numpy as np\n",
        "import pandas as pd\n",
        "import matplotlib.pyplot as plt\n",
        "from sklearn.datasets import make_moons\n",
        "from local.lib import mlutils\n",
        "from IPython.display import Image\n",
        "%matplotlib inline"
      ],
      "metadata": {
        "id": "kmOSJQYZmy5c"
      },
      "execution_count": null,
      "outputs": []
    },
    {
      "cell_type": "code",
      "source": [
        "d = pd.read_csv(\"local/data/trilotropicos_small.csv\")\n",
        "X,y = d.values[:,:2], d.values[:,-1]\n",
        "print (d.shape, X.shape, y.shape)\n",
        "print (X[:5])\n",
        "print (y[:5])\n",
        "d.head()"
      ],
      "metadata": {
        "id": "-MDxz8rrm_2U"
      },
      "execution_count": null,
      "outputs": []
    },
    {
      "cell_type": "code",
      "source": [
        "plt.scatter(X[y==0][:,0], X[y==0][:,1], color=\"blue\", label=\"X bug\")\n",
        "plt.scatter(X[y==1][:,0], X[y==1][:,1], color=\"red\", label=\"Z bug\")\n",
        "plt.xlabel(\"width\");plt.ylabel(\"length\"); plt.legend(); plt.grid();"
      ],
      "metadata": {
        "id": "5HRTT1RRnGUF"
      },
      "execution_count": null,
      "outputs": []
    },
    {
      "cell_type": "code",
      "source": [
        "def predict(X, t):\n",
        "    return (~((X[:,0] < t[0]) & (X[:,1] > t[1]))).astype(int)"
      ],
      "metadata": {
        "id": "OE63Tag8nX4E"
      },
      "execution_count": null,
      "outputs": []
    },
    {
      "cell_type": "code",
      "source": [
        "t = np.r_[.5,.3]\n",
        "y_hat = predict(X, t)\n",
        "y_hat\n",
        "np.mean(y==y_hat)\n",
        "mlutils.plot_2Ddata_with_boundary(lambda X: predict(X,t), X, y); plt.grid();\n",
        "t = np.r_[.5,.8]\n",
        "mlutils.plot_2Ddata_with_boundary(lambda X: predict(X,t), X, y); plt.grid();\n",
        "np.mean(y==predict(X,t))\n",
        "from sklearn.linear_model import LogisticRegression\n",
        "mlutils.plot_2Ddata_with_boundary(LogisticRegression().fit(X,y).predict, X, y); plt.grid();\n",
        "from sklearn.tree import DecisionTreeClassifier\n",
        "mlutils.plot_2Ddata_with_boundary(DecisionTreeClassifier(max_depth=5).fit(X,y).predict, X, y); plt.grid();\n",
        "from sklearn.svm import SVC\n",
        "mlutils.plot_2Ddata_with_boundary(SVC(gamma=50).fit(X,y).predict, X, y); plt.grid();"
      ],
      "metadata": {
        "id": "pOm-ph_5ntDE"
      },
      "execution_count": null,
      "outputs": []
    },
    {
      "cell_type": "markdown",
      "source": [
        "Lab 3.2 Fit the model"
      ],
      "metadata": {
        "id": "n2tEo9QKnc7j"
      }
    },
    {
      "cell_type": "code",
      "source": [
        "import itertools\n",
        "def fit(X,y):\n",
        "    def predict(X, t):\n",
        "        return (~((X[:,0] < t[0]) & (X[:,1] > t[1]))).astype(int)\n",
        "    grid = np.linspace(0, 1, 11)\n",
        "    best_acc = -1\n",
        "    best_t = None\n",
        "    for t0, t1 in itertools.product(grid, grid):\n",
        "        t = np.array([t0, t1])\n",
        "        y_pred = predict(X, t)\n",
        "        acc = (y_pred == y).mean()\n",
        "        if acc > best_acc:\n",
        "            best_acc = acc\n",
        "            best_t = t\n",
        "\n",
        "    return best_t"
      ],
      "metadata": {
        "id": "p86KvT1_ne4U"
      },
      "execution_count": null,
      "outputs": []
    },
    {
      "cell_type": "code",
      "source": [
        "t = fit(X,y)\n",
        "mlutils.plot_2Ddata_with_boundary(lambda X: predict(X,t), X, y); plt.grid();\n",
        "np.mean(y==predict(X,t))\n",
        "from sklearn.datasets import make_blobs\n",
        "from sklearn.preprocessing import MinMaxScaler\n",
        "\n",
        "bX, by = make_blobs(100,n_features=2, centers=2)\n",
        "bX = MinMaxScaler(feature_range=(0.1,.9)).fit_transform(bX)\n",
        "bt = fit(bX, by)\n",
        "mlutils.plot_2Ddata_with_boundary(lambda X: predict(X,bt), bX, by); plt.grid();\n",
        "np.mean(by==predict(bX,bt))"
      ],
      "metadata": {
        "id": "Ri8Yu4iGpA_L"
      },
      "execution_count": null,
      "outputs": []
    },
    {
      "cell_type": "markdown",
      "source": [
        "Lab 3.3 Make an sklearn compatible class with your model"
      ],
      "metadata": {
        "id": "UY3FIDoIpTWb"
      }
    },
    {
      "cell_type": "code",
      "source": [
        "def SimpleModel():\n",
        "    class _SimpleModel:\n",
        "\n",
        "        def __init__(self):\n",
        "            self.t = None  # aquí guardaremos [θ0, θ1]\n",
        "\n",
        "        def fit(self, X, y):\n",
        "            grid = np.linspace(0, 1, 11)\n",
        "            best_acc = -1\n",
        "\n",
        "            for t0, t1 in itertools.product(grid, grid):\n",
        "                t = np.array([t0, t1])\n",
        "                y_pred = self._predict_with_t(X, t)\n",
        "                acc = (y_pred == y).mean()\n",
        "                if acc > best_acc:\n",
        "                    best_acc = acc\n",
        "                    self.t = t  # guardamos los mejores parámetros\n",
        "\n",
        "            return self\n",
        "\n",
        "        def predict(self, X):\n",
        "            return self._predict_with_t(X, self.t)\n",
        "\n",
        "        # función auxiliar privada (usa t explícito)\n",
        "        def _predict_with_t(self, X, t):\n",
        "            return (~((X[:,0] < t[0]) & (X[:,1] > t[1]))).astype(int)\n",
        "\n",
        "\n",
        "    return _SimpleModel()"
      ],
      "metadata": {
        "id": "qOMk2ZJipX5D"
      },
      "execution_count": null,
      "outputs": []
    },
    {
      "cell_type": "code",
      "source": [
        "m = SimpleModel()\n",
        "m.fit(X,y)\n",
        "m.predict(X)\n",
        "mlutils.plot_2Ddata_with_boundary(m.predict, X, y); plt.grid();\n",
        "np.mean(y==m.predict(X))\n",
        "\n",
        "from sklearn.datasets import make_moons\n",
        "\n",
        "mX, my = make_moons(100, noise=.1)\n",
        "m = SimpleModel()\n",
        "m.fit(mX,my)\n",
        "\n",
        "mlutils.plot_2Ddata_with_boundary(m.predict, mX, my); plt.grid();\n",
        "np.mean(my==m.predict(mX))"
      ],
      "metadata": {
        "id": "Cy8sM7xDp7pz"
      },
      "execution_count": null,
      "outputs": []
    },
    {
      "cell_type": "markdown",
      "source": [
        "Lab 3.21 Timeseries model - Build a time series training dataset"
      ],
      "metadata": {
        "id": "1Z14DgPUqUA9"
      }
    },
    {
      "cell_type": "code",
      "source": [
        "import numpy as np\n",
        "import matplotlib.pyplot as plt\n",
        "from local.lib import timeseries as ts\n",
        "import pandas as pd\n",
        "import os\n",
        "from IPython.display import Image\n",
        "from pandas.plotting import register_matplotlib_converters\n",
        "register_matplotlib_converters()\n",
        "%matplotlib inline"
      ],
      "metadata": {
        "id": "kTGMdj-oqhcI"
      },
      "execution_count": null,
      "outputs": []
    },
    {
      "cell_type": "code",
      "source": [
        "date_split = \"2018-03-01\"\n",
        "\n",
        "idx = pd.date_range(\"2018-01-01\", \"2018-03-31\", freq=\"6h\")\n",
        "i = np.linspace(-5,4,len(idx))\n",
        "i = np.linspace(np.random.random()*5-5,np.random.random()*5+2,len(idx))\n",
        "t = np.log(i**2+.3)*np.cos(4*i)\n",
        "t += (np.random.normal(size=len(idx))*.4)\n",
        "t = np.round(t*3+30,3)\n",
        "d = pd.DataFrame(np.r_[[t]].T, columns=[\"signal\"], index=idx)\n",
        "d.index.name=\"date\"\n",
        "\n",
        "plt.figure(figsize=(15,3))\n",
        "plt.plot(d[:date_split].index, d[:date_split].signal, color=\"black\", lw=\"2\", label=\"train\");\n",
        "plt.plot(d[date_split:].index, d[date_split:].signal, color=\"red\", lw=\"2\", label=\"test\");\n",
        "plt.axvline(date_split, color=\"grey\"); plt.legend();plt.grid();\n",
        "signal = d"
      ],
      "metadata": {
        "id": "Se918Xf3q200"
      },
      "execution_count": null,
      "outputs": []
    },
    {
      "cell_type": "code",
      "source": [
        "def make_timeseries_dataset(signal, n_timesteps_lookback):\n",
        "    import pandas as pd\n",
        "    r = signal.copy()\n",
        "    for i in range(1, n_timesteps_lookback + 1):\n",
        "        r[f\"signal-{i}\"] = r[\"signal\"].shift(i)\n",
        "    r[\"signal+1\"] = r[\"signal\"].shift(-1)\n",
        "    r = r.dropna()\n",
        "    return r"
      ],
      "metadata": {
        "id": "sQ6cY4gjrA6i"
      },
      "execution_count": null,
      "outputs": []
    },
    {
      "cell_type": "code",
      "source": [
        "make_timeseries_dataset(d, n_timesteps_lookback=3).head(10)\n"
      ],
      "metadata": {
        "id": "opywtEWPrIVq"
      },
      "execution_count": null,
      "outputs": []
    },
    {
      "cell_type": "markdown",
      "source": [
        "Lab 3.22 Manually apply a regression model to create predictions"
      ],
      "metadata": {
        "id": "bx4hsQicrM0i"
      }
    },
    {
      "cell_type": "code",
      "source": [
        "def apply_linear_regression_model(td, w):\n",
        "    r = w[0] + td[[\"signal\"] + sorted([c for c in td.columns if c.startswith(\"signal-\")], key=lambda x: int(x.split(\"-\")[1]))].values @ w[1:]\n",
        "    return r"
      ],
      "metadata": {
        "id": "Dgulp_xYrSz6"
      },
      "execution_count": null,
      "outputs": []
    },
    {
      "cell_type": "code",
      "source": [
        "td = make_timeseries_dataset(d, n_timesteps_lookback=np.random.randint(3)+2)\n",
        "td = td[np.random.permutation(td.columns)]\n",
        "td.head()\n",
        "w = np.random.random(len(td.columns))\n",
        "w\n",
        "apply_linear_regression_model(td[np.random.permutation(td.columns)], w)[:5]"
      ],
      "metadata": {
        "id": "o9wF94LKrh4C"
      },
      "execution_count": null,
      "outputs": []
    },
    {
      "cell_type": "markdown",
      "source": [
        "Lab 3.23 Measure trend prediction"
      ],
      "metadata": {
        "id": "ZKtMdJFAroUp"
      }
    },
    {
      "cell_type": "code",
      "source": [
        "def measure_trend_accuracy(td, preds):\n",
        "    r = (( (td[\"signal+1\"] > td[\"signal\"]) & (preds > td[\"signal\"]) ) |\n",
        "            ( (td[\"signal+1\"] <= td[\"signal\"]) & (preds <= td[\"signal\"]) ) ).mean()\n",
        "    return r"
      ],
      "metadata": {
        "id": "6EclCm4srsRK"
      },
      "execution_count": null,
      "outputs": []
    },
    {
      "cell_type": "code",
      "source": [
        "td = make_timeseries_dataset(d, n_timesteps_lookback=np.random.randint(3)+2).iloc[:10]\n",
        "td\n",
        "preds = td['signal'] + np.round(np.random.random()*4-2,3)\n",
        "preds\n",
        "measure_trend_accuracy(td, preds)"
      ],
      "metadata": {
        "id": "yBpyUMSPr1yR"
      },
      "execution_count": null,
      "outputs": []
    },
    {
      "cell_type": "markdown",
      "source": [
        "Lab 4.1 Cleaning Data - FillNA in risk with corresponding city average"
      ],
      "metadata": {
        "id": "lATv_MPYsB16"
      }
    },
    {
      "cell_type": "code",
      "source": [
        "import pandas as pd\n",
        "import matplotlib.pyplot as plt\n",
        "%matplotlib inline\n",
        "from IPython.display import Image\n",
        "import numpy as np\n",
        "import seaborn as sns"
      ],
      "metadata": {
        "id": "Av43chYisPxZ"
      },
      "execution_count": null,
      "outputs": []
    },
    {
      "cell_type": "code",
      "source": [
        "n = 20\n",
        "place = np.r_[[\"Medellin\", \"Bogota\", \"Madrid\"]][(np.random.randint(3, size=n))]\n",
        "age = np.random.randint(50, size=n)+10\n",
        "children = np.r_[[(np.random.randint(2) if i<30 else (np.random.randint(4))) for i in age]]\n",
        "risk = np.r_[[np.random.random()*(.2 if i==\"Medellin\" else .8) for i in place]].round(3)\n",
        "risk[np.random.permutation(len(risk))[:5]]=np.nan\n",
        "d01 = pd.DataFrame([age, risk, children, place], index=[\"age\", \"risk\", \"children\", \"place\"]).T\n",
        "d01.to_csv(\"risk.csv\", index=False)\n",
        "d01\n",
        "#k = d01[d01.place==\"Bogota\"][\"risk\"].dropna()\n",
        "#plt.scatter(k, [0]*len(k), label=\"Bogota\")\n",
        "#k = d01[d01.place==\"Medellin\"][\"risk\"].dropna()\n",
        "#plt.scatter(k, [1]*len(k), label=\"Medellin\")\n",
        "#k = d01[d01.place==\"Madrid\"][\"risk\"].dropna()\n",
        "#plt.scatter(k, [2]*len(k), label=\"Madrid\")\n",
        "#plt.grid();\n",
        "#plt.xlabel(\"risk level\")\n",
        "#plt.ylabel(\"city\")\n",
        "#plt.legend()\n"
      ],
      "metadata": {
        "id": "YRUDQtNrsUD5"
      },
      "execution_count": null,
      "outputs": []
    },
    {
      "cell_type": "code",
      "source": [
        "# Crear DataFrame\n",
        "r01 = pd.DataFrame({\"place\": place, \"age\": age, \"children\": children, \"risk\": risk})\n",
        "\n",
        "# Calcular media por ciudad y reemplazar los NaN\n",
        "r01[\"risk\"] = r01[\"risk\"].fillna(r01.groupby(\"place\")[\"risk\"].transform(\"mean\"))\n",
        "\n",
        "r01.head()"
      ],
      "metadata": {
        "id": "i2NKVTlmsnfx"
      },
      "execution_count": null,
      "outputs": []
    },
    {
      "cell_type": "markdown",
      "source": [
        "Lab 4.2 Standardize age so that min=0, max=1\n",
        "\n",
        "si=(xi−min)/(max−min)"
      ],
      "metadata": {
        "id": "_Z8Kv0MZubYq"
      }
    },
    {
      "cell_type": "code",
      "source": [
        "r02 = r01.copy()\n",
        "r02[\"age\"] = (r02[\"age\"] - r02[\"age\"].min()) / (r02[\"age\"].max() - r02[\"age\"].min())"
      ],
      "metadata": {
        "id": "a9mJccoauhsp"
      },
      "execution_count": null,
      "outputs": []
    },
    {
      "cell_type": "markdown",
      "source": [
        "Lab 4.3 Standardize age so that  μ=0  and  σ=1\n",
        "\n",
        "si=(si−μ)/σ"
      ],
      "metadata": {
        "id": "Fm60gSMGvOYI"
      }
    },
    {
      "cell_type": "code",
      "source": [
        "r03 = r01.copy()\n",
        "r03[\"age\"] = (r03[\"age\"] - r03[\"age\"].mean()) / r03[\"age\"].std()"
      ],
      "metadata": {
        "id": "JU7say7lvZF5"
      },
      "execution_count": null,
      "outputs": []
    }
  ],
  "metadata": {
    "colab": {
      "toc_visible": true,
      "provenance": [],
      "include_colab_link": true
    },
    "kernelspec": {
      "display_name": "Python 3",
      "name": "python3"
    }
  },
  "nbformat": 4,
  "nbformat_minor": 0
}